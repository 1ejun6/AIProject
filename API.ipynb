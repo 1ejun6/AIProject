{
 "cells": [
  {
   "cell_type": "markdown",
   "id": "2820472a",
   "metadata": {},
   "source": [
    "#### Fill in the blank to complete the following code and run:"
   ]
  },
  {
   "cell_type": "code",
   "execution_count": 1,
   "id": "e62bc48b",
   "metadata": {},
   "outputs": [],
   "source": [
    "import io\n",
    "import base64\n",
    "import numpy as np\n",
    "from PIL import Image\n",
    "import tensorflow as tf\n",
    "import json\n",
    "from flask import Flask, render_template, request\n",
    "import requests"
   ]
  },
  {
   "cell_type": "code",
   "execution_count": 2,
   "id": "d58f9f60",
   "metadata": {},
   "outputs": [
    {
     "name": "stderr",
     "output_type": "stream",
     "text": [
      "WARNING: This is a development server. Do not use it in a production deployment. Use a production WSGI server instead.\n",
      " * Running on http://localhost:5009\n",
      "Press CTRL+C to quit\n",
      "127.0.0.1 - - [05/Feb/2023 19:03:12] \"GET /submiturl HTTP/1.1\" 200 -\n",
      "127.0.0.1 - - [05/Feb/2023 19:03:21] \"POST /submiturl HTTP/1.1\" 200 -\n",
      "127.0.0.1 - - [05/Feb/2023 19:04:11] \"POST /submiturl HTTP/1.1\" 200 -\n",
      "127.0.0.1 - - [05/Feb/2023 19:04:18] \"POST /submiturl HTTP/1.1\" 200 -\n"
     ]
    }
   ],
   "source": [
    "app = Flask(__name__, template_folder=\"./template\")\n",
    "\n",
    "img_height = 224\n",
    "img_width = 224\n",
    "\n",
    "class_names = {0: 'drum', 1: 'guitar', 2: 'piano', 3: 'violin'}\n",
    "\n",
    "def loadmodel():    \n",
    "    with open(\"./model/InceptionV3Adam.json\",\"r\") as json_file:\n",
    "        loaded_model_json= json_file.read()\n",
    "        \n",
    "    #Load structure of model from json\n",
    "    loaded_model= tf.keras.models.model_from_json(loaded_model_json)    \n",
    "    #Load weight from model.h5 file\n",
    "    loaded_model.load_weights(\"./model/InceptionV3Adam_weights.h5\")\n",
    "    \n",
    "    return loaded_model\n",
    "\n",
    "def prepare_image(img, img_url=None):\n",
    "    if img_url:\n",
    "        response = requests.get(img_url)\n",
    "        img = Image.open(io.BytesIO(response.content))\n",
    "    else:\n",
    "        img = Image.open(io.BytesIO(img))\n",
    "        \n",
    "    img = img.convert(\"RGB\")\n",
    "    img = img.resize((img_height, img_width)) \n",
    "    img = np.array(img)\n",
    "    img = img/255.0\n",
    "    img = img.reshape(img_height, img_width, 3)   \n",
    "    img = np.expand_dims(img, 0)\n",
    "    return img\n",
    "\n",
    "def predict_result(img):\n",
    "    #Call load model\n",
    "    model= loadmodel()\n",
    "    rpredict= model.predict(img)\n",
    "\n",
    "    return class_names[np.argmax(rpredict[0])]\n",
    "\n",
    "@app.route(\"/\")\n",
    "def index():\n",
    "    return render_template(\"homepage.html\")\n",
    "\n",
    "@app.route(\"/submiturl\", methods=[\"GET\", \"POST\"])\n",
    "def submiturl():\n",
    "    if request.method == \"POST\":\n",
    "        url = request.form.get(\"img_url\")\n",
    "        if url:\n",
    "            img = prepare_image(None, url)\n",
    "            result = predict_result(img)\n",
    "            return render_template(\"submiturl.html\", result=result, img_url=url), 200\n",
    "        else:\n",
    "            return \"Please try again. The image url is empty.\"\n",
    "    else:\n",
    "        # Render the template for GET requests\n",
    "        return render_template(\"submiturl.html\")\n",
    "    \n",
    "@app.route(\"/submitimage\", methods=[\"GET\", \"POST\"])\n",
    "def submitimage():\n",
    "    if request.method == \"POST\":\n",
    "        if \"imagefile\" not in request.files:\n",
    "            return \"Please try again. The image does not exist.\"\n",
    "        \n",
    "        # Get the image file from request.files\n",
    "        file = request.files[\"imagefile\"]\n",
    "\n",
    "        if not file:\n",
    "            return \"Please try again. No image file received.\"\n",
    "        \n",
    "          # Read image into bytes\n",
    "        img_bytes = file.read()\n",
    "        \n",
    "        # Convert image bytes into base64 string\n",
    "        img_string = base64.b64encode(img_bytes).decode()\n",
    "        \n",
    "        # Prepare image data\n",
    "        img = prepare_image(img_bytes)\n",
    "        \n",
    "        # Classify the image data\n",
    "        result = predict_result(img)\n",
    "\n",
    "        return render_template(\"submitimage.html\", img_data=img_string, prediction=result), 200\n",
    "    else:\n",
    "        # Render the template for GET requests\n",
    "        return render_template(\"submitimage.html\")  \n",
    "\n",
    "if __name__ == \"__main__\":\n",
    "    from werkzeug.serving import run_simple\n",
    "    app.debug= True    \n",
    "    run_simple(\"localhost\", 5009, app)"
   ]
  }
 ],
 "metadata": {
  "kernelspec": {
   "display_name": "tf",
   "language": "python",
   "name": "python3"
  },
  "language_info": {
   "codemirror_mode": {
    "name": "ipython",
    "version": 3
   },
   "file_extension": ".py",
   "mimetype": "text/x-python",
   "name": "python",
   "nbconvert_exporter": "python",
   "pygments_lexer": "ipython3",
   "version": "3.7.0"
  },
  "vscode": {
   "interpreter": {
    "hash": "5d176b5eeff902317862e8f127bf2c64ebe9c0f88a6561d50c0279a38c45d5c8"
   }
  }
 },
 "nbformat": 4,
 "nbformat_minor": 5
}
